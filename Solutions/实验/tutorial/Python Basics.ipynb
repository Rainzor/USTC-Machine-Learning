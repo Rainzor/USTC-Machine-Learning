{
 "cells": [
  {
   "cell_type": "markdown",
   "id": "2fb7a19d",
   "metadata": {},
   "source": [
    "# 1 Python Basics\n",
    "By zyt 2022/8/27"
   ]
  },
  {
   "cell_type": "markdown",
   "id": "3b0a42ce",
   "metadata": {},
   "source": [
    "## 1.1 Install\n",
    "\n",
    "为了方便的管理包，我们使用anaconda\n",
    "\n",
    "参考https://zhuanlan.zhihu.com/p/358641541\n",
    "\n",
    "1. 下载: https://mirrors.tuna.tsinghua.edu.cn/anaconda/archive/ \n",
    "2. 安装: 建议手动勾选 'Add anaconda to the system PATH environment variable'\n",
    "3. 检查: 在命令行中输入 conda --version, 如果未显示，则需要手动添加环境变量\n",
    "3. 换源: https://mirrors.tuna.tsinghua.edu.cn/help/anaconda/"
   ]
  },
  {
   "cell_type": "markdown",
   "id": "c8a6ecf0",
   "metadata": {},
   "source": [
    "## 1.2 VSCode / Pycharm\n",
    "1. 如果你选择Pycharm, 只需要官网下载即可，学生可以通过发邮件免费申请专业版本\n",
    "2. 如果你习惯VSCode\n",
    "    1. 在extensions里搜索`Python`并安装\n",
    "    2. 选择解释器：\n",
    "        * Ctrl+Shift+P打开命令面板，输入`Python: Select Interprete`\n",
    "        * 选择Python安装路径(在Anaconda的目录下)"
   ]
  },
  {
   "cell_type": "markdown",
   "id": "b983b883",
   "metadata": {},
   "source": [
    "## 1.3 Hello World"
   ]
  },
  {
   "cell_type": "markdown",
   "id": "d72bad5a",
   "metadata": {},
   "source": [
    "在 conda prompt 里输入`jupyter notebook`"
   ]
  },
  {
   "cell_type": "code",
   "execution_count": 1,
   "id": "848f09c7",
   "metadata": {},
   "outputs": [
    {
     "name": "stdout",
     "output_type": "stream",
     "text": [
      "Hello World!\n"
     ]
    }
   ],
   "source": [
    "print('Hello World!')"
   ]
  },
  {
   "cell_type": "markdown",
   "id": "2bd757a0",
   "metadata": {},
   "source": [
    "## 1.4 Simple Math"
   ]
  },
  {
   "cell_type": "code",
   "execution_count": 2,
   "id": "9f27b645",
   "metadata": {},
   "outputs": [
    {
     "data": {
      "text/plain": [
       "67.5"
      ]
     },
     "execution_count": 2,
     "metadata": {},
     "output_type": "execute_result"
    }
   ],
   "source": [
    "135/2"
   ]
  },
  {
   "cell_type": "code",
   "execution_count": 3,
   "id": "57a5639d",
   "metadata": {},
   "outputs": [
    {
     "data": {
      "text/plain": [
       "8"
      ]
     },
     "execution_count": 3,
     "metadata": {},
     "output_type": "execute_result"
    }
   ],
   "source": [
    "2**3"
   ]
  },
  {
   "cell_type": "code",
   "execution_count": 4,
   "id": "dbe75293",
   "metadata": {},
   "outputs": [
    {
     "data": {
      "text/plain": [
       "1"
      ]
     },
     "execution_count": 4,
     "metadata": {},
     "output_type": "execute_result"
    }
   ],
   "source": [
    "9%4"
   ]
  },
  {
   "cell_type": "markdown",
   "id": "4894c0bb",
   "metadata": {},
   "source": [
    "## 1.5 If Else"
   ]
  },
  {
   "cell_type": "code",
   "execution_count": 5,
   "id": "33bb77a1",
   "metadata": {},
   "outputs": [
    {
     "name": "stdout",
     "output_type": "stream",
     "text": [
      "3\n"
     ]
    }
   ],
   "source": [
    "# 注意python是按缩进对齐\n",
    "# 缩进的过程中 空格和tab不可以混用\n",
    "num = 3\n",
    "if num == 3: \n",
    "    print(num)"
   ]
  },
  {
   "cell_type": "code",
   "execution_count": 6,
   "id": "04ccb96b",
   "metadata": {},
   "outputs": [],
   "source": [
    "num = 3\n",
    "if num > 10:\n",
    "    print(num)"
   ]
  },
  {
   "cell_type": "code",
   "execution_count": 7,
   "id": "d791c3cf",
   "metadata": {},
   "outputs": [
    {
     "data": {
      "text/plain": [
       "True"
      ]
     },
     "execution_count": 7,
     "metadata": {},
     "output_type": "execute_result"
    }
   ],
   "source": [
    "num = 4\n",
    "num > 0 and num  < 15"
   ]
  },
  {
   "cell_type": "code",
   "execution_count": 8,
   "id": "c75c09e6",
   "metadata": {},
   "outputs": [
    {
     "name": "stdout",
     "output_type": "stream",
     "text": [
      "number is not greater than 3\n"
     ]
    }
   ],
   "source": [
    "num = 1\n",
    "if num > 3 :\n",
    "    print(\"Hi\")\n",
    "else: \n",
    "    print(\"number is not greater than 3\")"
   ]
  },
  {
   "cell_type": "code",
   "execution_count": 9,
   "id": "e1ed262f",
   "metadata": {},
   "outputs": [
    {
     "name": "stdout",
     "output_type": "stream",
     "text": [
      "num = 21\n"
     ]
    }
   ],
   "source": [
    "num = 21\n",
    "if num > 50:\n",
    "    print('num is larger than 50')\n",
    "elif num == 21:\n",
    "    print('num = 21')\n",
    "else:\n",
    "    print('Catchall condition')"
   ]
  },
  {
   "cell_type": "markdown",
   "id": "2c3101e9",
   "metadata": {},
   "source": [
    "## 1.6 List, Tuple"
   ]
  },
  {
   "cell_type": "code",
   "execution_count": 10,
   "id": "a65e3e20",
   "metadata": {},
   "outputs": [
    {
     "data": {
      "text/plain": [
       "3"
      ]
     },
     "execution_count": 10,
     "metadata": {},
     "output_type": "execute_result"
    }
   ],
   "source": [
    "# Defining a list\n",
    "z = [3, 7, 4, 2]\n",
    "\n",
    "# The first element of a list is at index 0\n",
    "z[0]"
   ]
  },
  {
   "cell_type": "code",
   "execution_count": 11,
   "id": "3620aa04",
   "metadata": {},
   "outputs": [
    {
     "data": {
      "text/plain": [
       "4"
      ]
     },
     "execution_count": 11,
     "metadata": {},
     "output_type": "execute_result"
    }
   ],
   "source": [
    "# Access Last Element of List \n",
    "z[-2]"
   ]
  },
  {
   "cell_type": "code",
   "execution_count": 12,
   "id": "f3ad5412",
   "metadata": {},
   "outputs": [
    {
     "data": {
      "text/plain": [
       "[3, 7]"
      ]
     },
     "execution_count": 12,
     "metadata": {},
     "output_type": "execute_result"
    }
   ],
   "source": [
    "# first index is inclusive (before the :) and last (after the :) is not. \n",
    "# not including index 2\n",
    "z[0:2]"
   ]
  },
  {
   "cell_type": "code",
   "execution_count": 13,
   "id": "6ae7f760",
   "metadata": {},
   "outputs": [
    {
     "data": {
      "text/plain": [
       "[3, 7, 4]"
      ]
     },
     "execution_count": 13,
     "metadata": {},
     "output_type": "execute_result"
    }
   ],
   "source": [
    "# everything up to index 3\n",
    "z[:3]"
   ]
  },
  {
   "cell_type": "code",
   "execution_count": 14,
   "id": "114f347b",
   "metadata": {},
   "outputs": [
    {
     "data": {
      "text/plain": [
       "[7, 4, 2]"
      ]
     },
     "execution_count": 14,
     "metadata": {},
     "output_type": "execute_result"
    }
   ],
   "source": [
    "# index 1 to end of list\n",
    "z[1:]"
   ]
  },
  {
   "cell_type": "code",
   "execution_count": 16,
   "id": "90d5d550",
   "metadata": {},
   "outputs": [
    {
     "name": "stdout",
     "output_type": "stream",
     "text": [
      "2 7 4 16\n"
     ]
    }
   ],
   "source": [
    "# Minimum, Maximum, Length, and Sum of a list\n",
    "print(min(z), max(z), len(z), sum(z))"
   ]
  },
  {
   "cell_type": "code",
   "execution_count": 17,
   "id": "43fa8471",
   "metadata": {},
   "outputs": [
    {
     "data": {
      "text/plain": [
       "3"
      ]
     },
     "execution_count": 17,
     "metadata": {},
     "output_type": "execute_result"
    }
   ],
   "source": [
    "#Count Number of Times Value is in List\n",
    "random_list = [4, 1, 5, 4, 10, 4]\n",
    "random_list.count(4)"
   ]
  },
  {
   "cell_type": "code",
   "execution_count": 18,
   "id": "67e27f39",
   "metadata": {},
   "outputs": [
    {
     "data": {
      "text/plain": [
       "0"
      ]
     },
     "execution_count": 18,
     "metadata": {},
     "output_type": "execute_result"
    }
   ],
   "source": [
    "# Return First Index of Value\n",
    "random_list.index(4)"
   ]
  },
  {
   "cell_type": "code",
   "execution_count": 19,
   "id": "0acd18e1",
   "metadata": {},
   "outputs": [
    {
     "data": {
      "text/plain": [
       "3"
      ]
     },
     "execution_count": 19,
     "metadata": {},
     "output_type": "execute_result"
    }
   ],
   "source": [
    "# you can specify where you start your search\n",
    "random_list.index(4, 3)"
   ]
  },
  {
   "cell_type": "markdown",
   "id": "f6abb046",
   "metadata": {},
   "source": [
    "### 1.6.1 排序"
   ]
  },
  {
   "cell_type": "code",
   "execution_count": 35,
   "id": "956ad744",
   "metadata": {},
   "outputs": [],
   "source": [
    "x = [3, 7, 2, 11, 8, 10, 4]\n",
    "y = ['Steve', 'Rachel', 'Michael', 'Adam', 'Monica', 'Jessica', 'Lester']"
   ]
  },
  {
   "cell_type": "code",
   "execution_count": 21,
   "id": "fe101dc5",
   "metadata": {},
   "outputs": [
    {
     "name": "stdout",
     "output_type": "stream",
     "text": [
      "[2, 3, 4, 7, 8, 10, 11]\n"
     ]
    }
   ],
   "source": [
    "# Sorting and Altering original list\n",
    "# low to high\n",
    "x.sort()\n",
    "print(x)"
   ]
  },
  {
   "cell_type": "code",
   "execution_count": 22,
   "id": "3c132c3c",
   "metadata": {},
   "outputs": [
    {
     "name": "stdout",
     "output_type": "stream",
     "text": [
      "[11, 10, 8, 7, 4, 3, 2]\n"
     ]
    }
   ],
   "source": [
    "# Sorting and Altering original list\n",
    "# high to low\n",
    "x.sort(reverse = True)\n",
    "print(x)"
   ]
  },
  {
   "cell_type": "code",
   "execution_count": 23,
   "id": "24372dbb",
   "metadata": {},
   "outputs": [
    {
     "name": "stdout",
     "output_type": "stream",
     "text": [
      "['Steve', 'Rachel', 'Monica', 'Michael', 'Lester', 'Jessica', 'Adam']\n"
     ]
    }
   ],
   "source": [
    "# Sorting and Altering original list\n",
    "# Z-A\n",
    "y.sort(reverse = True)\n",
    "print(y)"
   ]
  },
  {
   "cell_type": "markdown",
   "id": "e90b4ce5",
   "metadata": {},
   "source": [
    "### 1.6.2 插入"
   ]
  },
  {
   "cell_type": "code",
   "execution_count": 36,
   "id": "79d78409",
   "metadata": {},
   "outputs": [
    {
     "data": {
      "text/plain": [
       "[3, 7, 2, 11, 8, 10, 4]"
      ]
     },
     "execution_count": 36,
     "metadata": {},
     "output_type": "execute_result"
    }
   ],
   "source": [
    "x"
   ]
  },
  {
   "cell_type": "code",
   "execution_count": 37,
   "id": "5d107de7",
   "metadata": {},
   "outputs": [
    {
     "name": "stdout",
     "output_type": "stream",
     "text": [
      "[3, 7, 2, 11, 8, 10, 4, 3]\n"
     ]
    }
   ],
   "source": [
    "x.append(3)\n",
    "print(x)"
   ]
  },
  {
   "cell_type": "code",
   "execution_count": 38,
   "id": "273c4613",
   "metadata": {},
   "outputs": [],
   "source": [
    "x.insert(4, [4, 5])"
   ]
  },
  {
   "cell_type": "code",
   "execution_count": 39,
   "id": "a719600a",
   "metadata": {},
   "outputs": [
    {
     "data": {
      "text/plain": [
       "[3, 7, 2, 11, [4, 5], 8, 10, 4, 3]"
      ]
     },
     "execution_count": 39,
     "metadata": {},
     "output_type": "execute_result"
    }
   ],
   "source": [
    "x"
   ]
  },
  {
   "cell_type": "markdown",
   "id": "d99b0517",
   "metadata": {},
   "source": [
    "### 1.6.3 删除"
   ]
  },
  {
   "cell_type": "code",
   "execution_count": 40,
   "id": "4a215519",
   "metadata": {},
   "outputs": [
    {
     "name": "stdout",
     "output_type": "stream",
     "text": [
      "[3, 7, 2, 11, [4, 5], 8, 4, 3]\n"
     ]
    }
   ],
   "source": [
    "x.remove(10)\n",
    "print(x)"
   ]
  },
  {
   "cell_type": "code",
   "execution_count": 41,
   "id": "1af62f5d",
   "metadata": {},
   "outputs": [
    {
     "data": {
      "text/plain": [
       "11"
      ]
     },
     "execution_count": 41,
     "metadata": {},
     "output_type": "execute_result"
    }
   ],
   "source": [
    "# Remove Item at the Index you Provide\n",
    "x.pop(3)"
   ]
  },
  {
   "cell_type": "code",
   "execution_count": 42,
   "id": "9468ab98",
   "metadata": {},
   "outputs": [
    {
     "name": "stdout",
     "output_type": "stream",
     "text": [
      "[3, 7, 2, [4, 5], 8, 4, 3]\n"
     ]
    }
   ],
   "source": [
    "print(x)"
   ]
  },
  {
   "cell_type": "markdown",
   "id": "201e4537",
   "metadata": {},
   "source": [
    "### 1.6.4 扩展"
   ]
  },
  {
   "cell_type": "code",
   "execution_count": 43,
   "id": "8092113f",
   "metadata": {},
   "outputs": [
    {
     "data": {
      "text/plain": [
       "[3, 7, 2, [4, 5], 8, 4, 3]"
      ]
     },
     "execution_count": 43,
     "metadata": {},
     "output_type": "execute_result"
    }
   ],
   "source": [
    "x"
   ]
  },
  {
   "cell_type": "code",
   "execution_count": 44,
   "id": "b4c5b39e",
   "metadata": {},
   "outputs": [],
   "source": [
    "x.extend([4, 5])"
   ]
  },
  {
   "cell_type": "code",
   "execution_count": 45,
   "id": "fd849724",
   "metadata": {},
   "outputs": [
    {
     "data": {
      "text/plain": [
       "[3, 7, 2, [4, 5], 8, 4, 3, 4, 5]"
      ]
     },
     "execution_count": 45,
     "metadata": {},
     "output_type": "execute_result"
    }
   ],
   "source": [
    "x"
   ]
  },
  {
   "cell_type": "markdown",
   "id": "db8087c6",
   "metadata": {},
   "source": [
    "### 1.6.5Tuple"
   ]
  },
  {
   "cell_type": "code",
   "execution_count": null,
   "id": "7d0c908a",
   "metadata": {},
   "outputs": [],
   "source": [
    "emptyTuple = ()"
   ]
  },
  {
   "cell_type": "code",
   "execution_count": null,
   "id": "5a56ada2",
   "metadata": {},
   "outputs": [],
   "source": [
    "# init\n",
    "z = (3, 7, 4, 2)\n",
    "\n",
    "z = 3, 7, 4, 2"
   ]
  },
  {
   "cell_type": "code",
   "execution_count": null,
   "id": "d9c12af8",
   "metadata": {},
   "outputs": [],
   "source": [
    "# Initialize a tuple\n",
    "z = (3, 7, 4, 2)\n",
    "\n",
    "# Access the first item of a tuple at index 0\n",
    "print(z[0])\n",
    "# print last item in the tuple\n",
    "print(z[-1])"
   ]
  },
  {
   "cell_type": "code",
   "execution_count": null,
   "id": "fba19d96",
   "metadata": {},
   "outputs": [],
   "source": [
    "# Initialize a tuple\n",
    "z = (3, 7, 4, 2)\n",
    "\n",
    "# first index is inclusive (before the :) and last (after the :) is not.\n",
    "print(z[0:2])"
   ]
  },
  {
   "cell_type": "markdown",
   "id": "c1e70319",
   "metadata": {},
   "source": [
    "Tuple值不可以更新"
   ]
  },
  {
   "cell_type": "code",
   "execution_count": 70,
   "id": "bb840fcd",
   "metadata": {},
   "outputs": [
    {
     "ename": "TypeError",
     "evalue": "'tuple' object does not support item assignment",
     "output_type": "error",
     "traceback": [
      "\u001b[1;31m---------------------------------------------------------------------------\u001b[0m",
      "\u001b[1;31mTypeError\u001b[0m                                 Traceback (most recent call last)",
      "Input \u001b[1;32mIn [70]\u001b[0m, in \u001b[0;36m<cell line: 3>\u001b[1;34m()\u001b[0m\n\u001b[0;32m      1\u001b[0m z \u001b[38;5;241m=\u001b[39m (\u001b[38;5;241m3\u001b[39m, \u001b[38;5;241m7\u001b[39m, \u001b[38;5;241m4\u001b[39m, \u001b[38;5;241m2\u001b[39m)\n\u001b[1;32m----> 3\u001b[0m z[\u001b[38;5;241m1\u001b[39m] \u001b[38;5;241m=\u001b[39m \u001b[38;5;124m\"\u001b[39m\u001b[38;5;124mfish\u001b[39m\u001b[38;5;124m\"\u001b[39m\n",
      "\u001b[1;31mTypeError\u001b[0m: 'tuple' object does not support item assignment"
     ]
    }
   ],
   "source": [
    "z = (3, 7, 4, 2)\n",
    "\n",
    "z[1] = \"fish\""
   ]
  },
  {
   "cell_type": "code",
   "execution_count": 71,
   "id": "33b6d992",
   "metadata": {},
   "outputs": [
    {
     "name": "stdout",
     "output_type": "stream",
     "text": [
      "lama\n",
      "sheep\n",
      "lama\n",
      "48\n"
     ]
    }
   ],
   "source": [
    "for item in ('lama', 'sheep', 'lama', 48):\n",
    "    print(item)"
   ]
  },
  {
   "cell_type": "markdown",
   "id": "a6107265",
   "metadata": {},
   "source": [
    "#### Tuple 优势"
   ]
  },
  {
   "cell_type": "code",
   "execution_count": 73,
   "id": "bf60e335",
   "metadata": {},
   "outputs": [
    {
     "name": "stdout",
     "output_type": "stream",
     "text": [
      "Tuple time:  0.018294699999842123\n",
      "List time:  0.06867190000002665\n"
     ]
    }
   ],
   "source": [
    "import timeit \n",
    "print('Tuple time: ', timeit.timeit('x=(1,2,3,4,5,6,7,8,9,10,11,12)', number=1000000))\n",
    "print('List time: ', timeit.timeit('x=[1,2,3,4,5,6,7,8,9,10,11,12]', number=1000000))"
   ]
  },
  {
   "cell_type": "code",
   "execution_count": 74,
   "id": "4012643a",
   "metadata": {},
   "outputs": [
    {
     "name": "stdout",
     "output_type": "stream",
     "text": [
      "{('this', 'is'): 23, ('is', 'a'): 12, ('a', 'sentence'): 2}\n"
     ]
    }
   ],
   "source": [
    "bigramsTupleDict = {('this', 'is'): 23,\n",
    "                    ('is', 'a'): 12,\n",
    "                    ('a', 'sentence'): 2}\n",
    "\n",
    "print(bigramsTupleDict)"
   ]
  },
  {
   "cell_type": "code",
   "execution_count": 75,
   "id": "7f1ed9e8",
   "metadata": {},
   "outputs": [
    {
     "ename": "TypeError",
     "evalue": "unhashable type: 'list'",
     "output_type": "error",
     "traceback": [
      "\u001b[1;31m---------------------------------------------------------------------------\u001b[0m",
      "\u001b[1;31mTypeError\u001b[0m                                 Traceback (most recent call last)",
      "Input \u001b[1;32mIn [75]\u001b[0m, in \u001b[0;36m<cell line: 1>\u001b[1;34m()\u001b[0m\n\u001b[1;32m----> 1\u001b[0m bigramsListDict \u001b[38;5;241m=\u001b[39m {[\u001b[38;5;124m'\u001b[39m\u001b[38;5;124mthis\u001b[39m\u001b[38;5;124m'\u001b[39m, \u001b[38;5;124m'\u001b[39m\u001b[38;5;124mis\u001b[39m\u001b[38;5;124m'\u001b[39m]: \u001b[38;5;241m23\u001b[39m,\n\u001b[0;32m      2\u001b[0m                    [\u001b[38;5;124m'\u001b[39m\u001b[38;5;124mis\u001b[39m\u001b[38;5;124m'\u001b[39m, \u001b[38;5;124m'\u001b[39m\u001b[38;5;124ma\u001b[39m\u001b[38;5;124m'\u001b[39m]: \u001b[38;5;241m12\u001b[39m,\n\u001b[0;32m      3\u001b[0m                    [\u001b[38;5;124m'\u001b[39m\u001b[38;5;124ma\u001b[39m\u001b[38;5;124m'\u001b[39m, \u001b[38;5;124m'\u001b[39m\u001b[38;5;124msentence\u001b[39m\u001b[38;5;124m'\u001b[39m]: \u001b[38;5;241m2\u001b[39m}\n\u001b[0;32m      5\u001b[0m \u001b[38;5;28mprint\u001b[39m(bigramsListDict)\n",
      "\u001b[1;31mTypeError\u001b[0m: unhashable type: 'list'"
     ]
    }
   ],
   "source": [
    "# Lists can NOT be dictionary keys\n",
    "bigramsListDict = {['this', 'is']: 23,\n",
    "                   ['is', 'a']: 12,\n",
    "                   ['a', 'sentence']: 2}\n",
    "\n",
    "print(bigramsListDict)"
   ]
  },
  {
   "cell_type": "code",
   "execution_count": 76,
   "id": "f564ad4b",
   "metadata": {},
   "outputs": [
    {
     "name": "stdout",
     "output_type": "stream",
     "text": [
      "{('this', 'is'), ('a', 'sentence'), ('is', 'a')}\n"
     ]
    }
   ],
   "source": [
    "graphicDesigner = {('this', 'is'),\n",
    "                   ('is', 'a'),\n",
    "                   ('a', 'sentence')}\n",
    "print(graphicDesigner)"
   ]
  },
  {
   "cell_type": "code",
   "execution_count": 77,
   "id": "e2a3bfa1",
   "metadata": {},
   "outputs": [
    {
     "ename": "TypeError",
     "evalue": "unhashable type: 'list'",
     "output_type": "error",
     "traceback": [
      "\u001b[1;31m---------------------------------------------------------------------------\u001b[0m",
      "\u001b[1;31mTypeError\u001b[0m                                 Traceback (most recent call last)",
      "Input \u001b[1;32mIn [77]\u001b[0m, in \u001b[0;36m<cell line: 2>\u001b[1;34m()\u001b[0m\n\u001b[0;32m      1\u001b[0m \u001b[38;5;66;03m# Lists can NOT be values in a set\u001b[39;00m\n\u001b[1;32m----> 2\u001b[0m graphicDesigner \u001b[38;5;241m=\u001b[39m {[\u001b[38;5;124m'\u001b[39m\u001b[38;5;124mthis\u001b[39m\u001b[38;5;124m'\u001b[39m, \u001b[38;5;124m'\u001b[39m\u001b[38;5;124mis\u001b[39m\u001b[38;5;124m'\u001b[39m],\n\u001b[0;32m      3\u001b[0m                    [\u001b[38;5;124m'\u001b[39m\u001b[38;5;124mis\u001b[39m\u001b[38;5;124m'\u001b[39m, \u001b[38;5;124m'\u001b[39m\u001b[38;5;124ma\u001b[39m\u001b[38;5;124m'\u001b[39m],\n\u001b[0;32m      4\u001b[0m                    [\u001b[38;5;124m'\u001b[39m\u001b[38;5;124ma\u001b[39m\u001b[38;5;124m'\u001b[39m, \u001b[38;5;124m'\u001b[39m\u001b[38;5;124msentence\u001b[39m\u001b[38;5;124m'\u001b[39m]}\n\u001b[0;32m      5\u001b[0m \u001b[38;5;28mprint\u001b[39m(graphicDesigner)\n",
      "\u001b[1;31mTypeError\u001b[0m: unhashable type: 'list'"
     ]
    }
   ],
   "source": [
    "# Lists can NOT be values in a set\n",
    "graphicDesigner = {['this', 'is'],\n",
    "                   ['is', 'a'],\n",
    "                   ['a', 'sentence']}\n",
    "print(graphicDesigner)"
   ]
  },
  {
   "cell_type": "markdown",
   "id": "45aeee6f",
   "metadata": {},
   "source": [
    "## 1.7 字典"
   ]
  },
  {
   "cell_type": "code",
   "execution_count": 47,
   "id": "e251c671",
   "metadata": {},
   "outputs": [],
   "source": [
    "webstersDict = {'person': 'a human being, whether an adult or child', 'marathon': 'a running race that is about 26 miles', 'resist': ' to remain strong against the force or effect of (something)', 'run': 'to move with haste; act quickly'}"
   ]
  },
  {
   "cell_type": "code",
   "execution_count": 48,
   "id": "6d3dc311",
   "metadata": {},
   "outputs": [
    {
     "data": {
      "text/plain": [
       "{'person': 'a human being, whether an adult or child',\n",
       " 'marathon': 'a running race that is about 26 miles',\n",
       " 'resist': ' to remain strong against the force or effect of (something)',\n",
       " 'run': 'to move with haste; act quickly'}"
      ]
     },
     "execution_count": 48,
     "metadata": {},
     "output_type": "execute_result"
    }
   ],
   "source": [
    "webstersDict"
   ]
  },
  {
   "cell_type": "code",
   "execution_count": 49,
   "id": "33fe6f6c",
   "metadata": {},
   "outputs": [
    {
     "data": {
      "text/plain": [
       "'a running race that is about 26 miles'"
      ]
     },
     "execution_count": 49,
     "metadata": {},
     "output_type": "execute_result"
    }
   ],
   "source": [
    "# Accessing Values in a Dictionary\n",
    "# dictionary[key]\n",
    "webstersDict['marathon']"
   ]
  },
  {
   "cell_type": "code",
   "execution_count": 50,
   "id": "e201897a",
   "metadata": {},
   "outputs": [
    {
     "data": {
      "text/plain": [
       "'an external covering for the human foot'"
      ]
     },
     "execution_count": 50,
     "metadata": {},
     "output_type": "execute_result"
    }
   ],
   "source": [
    "# Updating Dictionary\n",
    "# add one new key value pair to dictionary\n",
    "webstersDict['shoe'] = 'an external covering for the human foot'\n",
    "\n",
    "# return the value for the 'shoe' key\n",
    "webstersDict['shoe']"
   ]
  },
  {
   "cell_type": "code",
   "execution_count": 51,
   "id": "f852e192",
   "metadata": {},
   "outputs": [
    {
     "data": {
      "text/plain": [
       "{'person': 'a human being, whether an adult or child',\n",
       " 'marathon': 'a running race that is about 26 miles',\n",
       " 'resist': ' to remain strong against the force or effect of (something)',\n",
       " 'run': 'to move with haste; act quickly',\n",
       " 'shoe': 'an external covering for the human foot, usually of leather and consisting of a more or less stiff or heavy sole and a lighter upper part ending a short distance above, at, or below the ankle.',\n",
       " 'shirt': 'a long- or short-sleeved garment for the upper part of the body'}"
      ]
     },
     "execution_count": 51,
     "metadata": {},
     "output_type": "execute_result"
    }
   ],
   "source": [
    "\n",
    "# update method, update or add more than key value pair at a time \n",
    "webstersDict.update({'shirt': 'a long- or short-sleeved garment for the upper part of the body'\n",
    "                     , 'shoe': 'an external covering for the human foot, usually of leather and consisting of a more or less stiff or heavy sole and a lighter upper part ending a short distance above, at, or below the ankle.'})\n",
    "webstersDict"
   ]
  },
  {
   "cell_type": "code",
   "execution_count": 52,
   "id": "7b19b8d7",
   "metadata": {},
   "outputs": [
    {
     "data": {
      "text/plain": [
       "{'person': 'a human being, whether an adult or child',\n",
       " 'marathon': 'a running race that is about 26 miles',\n",
       " 'run': 'to move with haste; act quickly',\n",
       " 'shoe': 'an external covering for the human foot, usually of leather and consisting of a more or less stiff or heavy sole and a lighter upper part ending a short distance above, at, or below the ankle.',\n",
       " 'shirt': 'a long- or short-sleeved garment for the upper part of the body'}"
      ]
     },
     "execution_count": 52,
     "metadata": {},
     "output_type": "execute_result"
    }
   ],
   "source": [
    "# Removing key from dictionary\n",
    "del webstersDict['resist']\n",
    "webstersDict"
   ]
  },
  {
   "cell_type": "markdown",
   "id": "2be8d8f5",
   "metadata": {},
   "source": [
    "只有可以迭代的对象可以作为key, list就不可以"
   ]
  },
  {
   "cell_type": "code",
   "execution_count": 53,
   "id": "e3b9c55c",
   "metadata": {},
   "outputs": [
    {
     "ename": "TypeError",
     "evalue": "unhashable type: 'list'",
     "output_type": "error",
     "traceback": [
      "\u001b[1;31m---------------------------------------------------------------------------\u001b[0m",
      "\u001b[1;31mTypeError\u001b[0m                                 Traceback (most recent call last)",
      "Input \u001b[1;32mIn [53]\u001b[0m, in \u001b[0;36m<cell line: 1>\u001b[1;34m()\u001b[0m\n\u001b[1;32m----> 1\u001b[0m webstersDict[[\u001b[38;5;124m'\u001b[39m\u001b[38;5;124msock\u001b[39m\u001b[38;5;124m'\u001b[39m]] \u001b[38;5;241m=\u001b[39m \u001b[38;5;124m\"\u001b[39m\u001b[38;5;124mWrong\u001b[39m\u001b[38;5;124m\"\u001b[39m\n",
      "\u001b[1;31mTypeError\u001b[0m: unhashable type: 'list'"
     ]
    }
   ],
   "source": [
    "webstersDict[['sock']] = \"Wrong\""
   ]
  },
  {
   "cell_type": "code",
   "execution_count": 54,
   "id": "5ca6c184",
   "metadata": {},
   "outputs": [],
   "source": [
    "storyCount = {'is': 100, 'the': 90, 'Michael': 12, 'runs': 5}"
   ]
  },
  {
   "cell_type": "code",
   "execution_count": 55,
   "id": "b3e89be0",
   "metadata": {},
   "outputs": [
    {
     "ename": "KeyError",
     "evalue": "'run'",
     "output_type": "error",
     "traceback": [
      "\u001b[1;31m---------------------------------------------------------------------------\u001b[0m",
      "\u001b[1;31mKeyError\u001b[0m                                  Traceback (most recent call last)",
      "Input \u001b[1;32mIn [55]\u001b[0m, in \u001b[0;36m<cell line: 2>\u001b[1;34m()\u001b[0m\n\u001b[0;32m      1\u001b[0m \u001b[38;5;66;03m# key error for keys that do not exist\u001b[39;00m\n\u001b[1;32m----> 2\u001b[0m \u001b[43mstoryCount\u001b[49m\u001b[43m[\u001b[49m\u001b[38;5;124;43m'\u001b[39;49m\u001b[38;5;124;43mrun\u001b[39;49m\u001b[38;5;124;43m'\u001b[39;49m\u001b[43m]\u001b[49m\n",
      "\u001b[1;31mKeyError\u001b[0m: 'run'"
     ]
    }
   ],
   "source": [
    "# key error for keys that do not exist\n",
    "storyCount['run']"
   ]
  },
  {
   "cell_type": "code",
   "execution_count": 56,
   "id": "e10cc13b",
   "metadata": {},
   "outputs": [
    {
     "data": {
      "text/plain": [
       "12"
      ]
     },
     "execution_count": 56,
     "metadata": {},
     "output_type": "execute_result"
    }
   ],
   "source": [
    "# if key doesnt exist, \n",
    "# specify default value for keys that dont exist. \n",
    "# returns value for key you enter if it is in dictionary\n",
    "# else it returns the value you have for default\n",
    "storyCount.get('Michael', 0)"
   ]
  },
  {
   "cell_type": "code",
   "execution_count": 57,
   "id": "283bddf3",
   "metadata": {},
   "outputs": [
    {
     "name": "stdout",
     "output_type": "stream",
     "text": [
      "None\n"
     ]
    }
   ],
   "source": [
    "# When you dont set default value for key that doesnt exist, \n",
    "# it defaults to none\n",
    "print(storyCount.get('run'))"
   ]
  },
  {
   "cell_type": "code",
   "execution_count": 58,
   "id": "e0313d63",
   "metadata": {},
   "outputs": [
    {
     "name": "stdout",
     "output_type": "stream",
     "text": [
      "0\n"
     ]
    }
   ],
   "source": [
    "# Making default value for key that doesn't exist 0. \n",
    "print(storyCount.get('run', 0))"
   ]
  },
  {
   "cell_type": "code",
   "execution_count": 59,
   "id": "8432dd64",
   "metadata": {},
   "outputs": [
    {
     "name": "stdout",
     "output_type": "stream",
     "text": [
      "90\n"
     ]
    }
   ],
   "source": [
    "count = storyCount.pop('the')\n",
    "print(count)"
   ]
  },
  {
   "cell_type": "markdown",
   "id": "4327489e",
   "metadata": {},
   "source": [
    "### 1.7.1 迭代"
   ]
  },
  {
   "cell_type": "code",
   "execution_count": 60,
   "id": "9d3849ef",
   "metadata": {},
   "outputs": [
    {
     "name": "stdout",
     "output_type": "stream",
     "text": [
      "dict_keys(['is', 'Michael', 'runs'])\n",
      "dict_values([100, 12, 5])\n"
     ]
    }
   ],
   "source": [
    "# return keys in dictionary\n",
    "print(storyCount.keys())\n",
    "\n",
    "# return values in dictionary\n",
    "print(storyCount.values())"
   ]
  },
  {
   "cell_type": "code",
   "execution_count": 61,
   "id": "097a81b3",
   "metadata": {},
   "outputs": [
    {
     "name": "stdout",
     "output_type": "stream",
     "text": [
      "is\n",
      "Michael\n",
      "runs\n"
     ]
    }
   ],
   "source": [
    "# iterate through keys\n",
    "for key in storyCount: \n",
    "    print(key)"
   ]
  },
  {
   "cell_type": "code",
   "execution_count": 62,
   "id": "deb37af2",
   "metadata": {},
   "outputs": [
    {
     "name": "stdout",
     "output_type": "stream",
     "text": [
      "person a human being, whether an adult or child\n",
      "marathon a running race that is about 26 miles\n",
      "run to move with haste; act quickly\n",
      "shoe an external covering for the human foot, usually of leather and consisting of a more or less stiff or heavy sole and a lighter upper part ending a short distance above, at, or below the ankle.\n",
      "shirt a long- or short-sleeved garment for the upper part of the body\n"
     ]
    }
   ],
   "source": [
    "# iterate through keys and values\n",
    "for key, value in webstersDict.items():\n",
    "    print(key, value)"
   ]
  },
  {
   "cell_type": "markdown",
   "id": "00a91fd8",
   "metadata": {},
   "source": [
    "## 1.8 循环"
   ]
  },
  {
   "cell_type": "code",
   "execution_count": 63,
   "id": "33947e64",
   "metadata": {},
   "outputs": [
    {
     "name": "stdout",
     "output_type": "stream",
     "text": [
      "23\n",
      "41\n",
      "12\n",
      "16\n",
      "7\n",
      "Hi\n"
     ]
    }
   ],
   "source": [
    "for number in [23, 41, 12, 16, 7]: \n",
    "    print(number)\n",
    "print('Hi')"
   ]
  },
  {
   "cell_type": "code",
   "execution_count": 64,
   "id": "13be3da6",
   "metadata": {},
   "outputs": [
    {
     "name": "stdout",
     "output_type": "stream",
     "text": [
      "0 steve\n",
      "1 rachel\n",
      "2 michael\n",
      "3 adam\n",
      "4 monica\n"
     ]
    }
   ],
   "source": [
    "friends = ['steve', 'rachel', 'michael', 'adam', 'monica']\n",
    "for index, friend in enumerate(friends):\n",
    "    print(index,friend)"
   ]
  },
  {
   "cell_type": "code",
   "execution_count": 67,
   "id": "ff70f9d2",
   "metadata": {},
   "outputs": [
    {
     "data": {
      "text/plain": [
       "[0, 1, 2, 3, 4, 5, 6, 7, 8, 9]"
      ]
     },
     "execution_count": 67,
     "metadata": {},
     "output_type": "execute_result"
    }
   ],
   "source": [
    "original_list = range(10)\n",
    "list(original_list)"
   ]
  },
  {
   "cell_type": "code",
   "execution_count": 68,
   "id": "3e42b806",
   "metadata": {},
   "outputs": [
    {
     "data": {
      "text/plain": [
       "[1, 3, 5, 7, 9]"
      ]
     },
     "execution_count": 68,
     "metadata": {},
     "output_type": "execute_result"
    }
   ],
   "source": [
    "odd_list = []\n",
    "for number in original_list:\n",
    "    if number % 2 == 0:\n",
    "        continue\n",
    "    odd_list.append(number)\n",
    "odd_list        "
   ]
  },
  {
   "cell_type": "code",
   "execution_count": 69,
   "id": "9b256e8e",
   "metadata": {},
   "outputs": [
    {
     "name": "stdout",
     "output_type": "stream",
     "text": [
      "0\n",
      "1\n",
      "2\n",
      "3\n",
      "4\n",
      "5\n"
     ]
    }
   ],
   "source": [
    "for number in original_list:\n",
    "    if number > 5:\n",
    "        break\n",
    "    print(number)"
   ]
  },
  {
   "cell_type": "code",
   "execution_count": 78,
   "id": "49a73cc3",
   "metadata": {},
   "outputs": [
    {
     "name": "stdout",
     "output_type": "stream",
     "text": [
      "0\n",
      "1\n",
      "2\n",
      "3\n",
      "4\n",
      "5\n"
     ]
    }
   ],
   "source": [
    "count = 0\n",
    "while count <= 5:\n",
    "    print(count)\n",
    "    count = count + 1"
   ]
  },
  {
   "cell_type": "code",
   "execution_count": 80,
   "id": "c92d2160",
   "metadata": {},
   "outputs": [
    {
     "name": "stdout",
     "output_type": "stream",
     "text": [
      "1\n",
      "2\n"
     ]
    }
   ],
   "source": [
    "count = 0\n",
    "while count <= 5:\n",
    "    if count == 2:\n",
    "        break\n",
    "    count += 1\n",
    "    print(count)"
   ]
  },
  {
   "cell_type": "markdown",
   "id": "13f611ae",
   "metadata": {},
   "source": [
    "## 1.8 函数"
   ]
  },
  {
   "cell_type": "code",
   "execution_count": 81,
   "id": "f5c445e1",
   "metadata": {},
   "outputs": [
    {
     "name": "stdout",
     "output_type": "stream",
     "text": [
      "[2, 4, 10, 20, 5]\n"
     ]
    }
   ],
   "source": [
    "def remove_duplicates(duplicate): \n",
    "    uniques = [] \n",
    "    for num in duplicate: \n",
    "        if num not in uniques: \n",
    "            uniques.append(num) \n",
    "    return(uniques)\n",
    "      \n",
    "duplicate = [2, 4, 10, 20, 5, 2, 20, 4] \n",
    "print(remove_duplicates(duplicate)) "
   ]
  },
  {
   "cell_type": "markdown",
   "id": "e39f812f",
   "metadata": {},
   "source": [
    "## 1.9 类"
   ]
  },
  {
   "cell_type": "code",
   "execution_count": 84,
   "id": "3809a585",
   "metadata": {},
   "outputs": [
    {
     "data": {
      "text/plain": [
       "int"
      ]
     },
     "execution_count": 84,
     "metadata": {},
     "output_type": "execute_result"
    }
   ],
   "source": [
    "type(0)"
   ]
  },
  {
   "cell_type": "code",
   "execution_count": 87,
   "id": "14ef04e4",
   "metadata": {},
   "outputs": [],
   "source": [
    "class A:\n",
    "    pass"
   ]
  },
  {
   "cell_type": "code",
   "execution_count": 88,
   "id": "be95fc4b",
   "metadata": {},
   "outputs": [
    {
     "data": {
      "text/plain": [
       "__main__.A"
      ]
     },
     "execution_count": 88,
     "metadata": {},
     "output_type": "execute_result"
    }
   ],
   "source": [
    "A"
   ]
  },
  {
   "cell_type": "code",
   "execution_count": 90,
   "id": "5844e907",
   "metadata": {},
   "outputs": [
    {
     "data": {
      "text/plain": [
       "<__main__.A at 0x1d2339ba940>"
      ]
     },
     "execution_count": 90,
     "metadata": {},
     "output_type": "execute_result"
    }
   ],
   "source": [
    "cla = A()\n",
    "\n",
    "cla"
   ]
  },
  {
   "cell_type": "code",
   "execution_count": 94,
   "id": "c58c5b04",
   "metadata": {},
   "outputs": [],
   "source": [
    "class person:\n",
    "    def __init__(self, pid, name, addr):\n",
    "        self.pid = pid\n",
    "        self.name = name\n",
    "        self.addr = addr\n",
    "        \n",
    "    def get_name(self):\n",
    "        return (self.name)"
   ]
  },
  {
   "cell_type": "code",
   "execution_count": 97,
   "id": "c7fea8db",
   "metadata": {},
   "outputs": [
    {
     "data": {
      "text/plain": [
       "'zyt'"
      ]
     },
     "execution_count": 97,
     "metadata": {},
     "output_type": "execute_result"
    }
   ],
   "source": [
    "p1 = person(\"00001\", \"zyt\", \"xxxxx\")\n",
    "p1.get_name()"
   ]
  },
  {
   "cell_type": "code",
   "execution_count": 98,
   "id": "cd34f377",
   "metadata": {},
   "outputs": [
    {
     "data": {
      "text/plain": [
       "'zyt2'"
      ]
     },
     "execution_count": 98,
     "metadata": {},
     "output_type": "execute_result"
    }
   ],
   "source": [
    "p1.name = \"zyt2\"\n",
    "p1.get_name()"
   ]
  },
  {
   "cell_type": "code",
   "execution_count": 102,
   "id": "c5f263c4",
   "metadata": {},
   "outputs": [],
   "source": [
    "class student(person):\n",
    "    def __init__(self, pid, name, addr, school):\n",
    "        super(student, self).__init__(pid, name, addr)\n",
    "        self.school = school\n",
    "    "
   ]
  },
  {
   "cell_type": "code",
   "execution_count": 103,
   "id": "c1be344a",
   "metadata": {},
   "outputs": [
    {
     "data": {
      "text/plain": [
       "'zyt3'"
      ]
     },
     "execution_count": 103,
     "metadata": {},
     "output_type": "execute_result"
    }
   ],
   "source": [
    "p2 = student(\"00002\", \"zyt3\", \"xxxxx\", \"USTC\")\n",
    "p2.get_name()"
   ]
  },
  {
   "cell_type": "code",
   "execution_count": 106,
   "id": "994cf9de",
   "metadata": {},
   "outputs": [],
   "source": [
    "class teacher(person):\n",
    "    def __init__(self, pid, name, addr, school):\n",
    "        super(teacher, self).__init__(pid, name, addr)\n",
    "        self.school = school\n",
    "    \n",
    "    def get_name(self):\n",
    "        return self.name, self.pid\n",
    "    "
   ]
  },
  {
   "cell_type": "code",
   "execution_count": 107,
   "id": "b987946f",
   "metadata": {},
   "outputs": [
    {
     "data": {
      "text/plain": [
       "('lm', '00003')"
      ]
     },
     "execution_count": 107,
     "metadata": {},
     "output_type": "execute_result"
    }
   ],
   "source": [
    "p3 = teacher(\"00003\", \"lm\", \"xxxxx\", \"USTC\")\n",
    "p3.get_name()"
   ]
  },
  {
   "cell_type": "code",
   "execution_count": null,
   "id": "784f8869",
   "metadata": {},
   "outputs": [],
   "source": []
  }
 ],
 "metadata": {
  "kernelspec": {
   "display_name": "Python 3 (ipykernel)",
   "language": "python",
   "name": "python3"
  },
  "language_info": {
   "codemirror_mode": {
    "name": "ipython",
    "version": 3
   },
   "file_extension": ".py",
   "mimetype": "text/x-python",
   "name": "python",
   "nbconvert_exporter": "python",
   "pygments_lexer": "ipython3",
   "version": "3.9.12"
  }
 },
 "nbformat": 4,
 "nbformat_minor": 5
}
